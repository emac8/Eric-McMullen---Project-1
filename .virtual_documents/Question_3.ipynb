import requests
import pandas as pd
import matplotlib.pyplot as plt
import numpy as np
from scipy.stats import pearsonr


# Load your dataset into a pandas DataFrame
df = pd.read_csv('injury_data_updated copy.csv')
df.head()


injury_counts_by_jersey_number = df.groupby('Player Jersey')['Injury Type'].count()
injury_counts_by_jersey_number


injury_counts_by_jersey_number.describe()['Injury Type']


# Identify the jersey number with the highest number of injuries
most_injuries_number = injury_counts_by_jersey_number.idxmax()
most_injuries_count = injury_counts_by_jersey_number.max()
print(f"The jersey number with the highest number of injuries: #{most_injuries_number} ({most_injuries_count} injuries)")


# Group the data by the 'Team' column and count the number of injuries
injury_counts_by_jersey_number = df.groupby('Player Jersey')['Injury Type'].count().reset_index()


# Rename columns
injury_counts_by_jersey_number.columns = ['Player Jersey', 'Injury Type']


# Create a Bar Chart   
plt.figure(figsize=(50, 10))
plt.bar(injury_counts_by_jersey_number['Player Jersey'], injury_counts_by_jersey_number['Injury Type'], color='blue')

# Add labels and title
plt.xlabel('Jersey Number', fontsize=35)
plt.ylabel('Number of Injuries', fontsize=35)
plt.title('Player Jersey Number', fontsize=50)
plt.xticks(rotation=0, ha='right',fontsize=25)
plt.yticks(rotation=0, ha='right',fontsize=25)

# Sort the DataFrame by Injury Type in descending order
injury_counts_by_jersey_number = injury_counts_by_jersey_number.sort_values(by='Injury Type', ascending=False)

# Display the bar chart
plt.tight_layout()
plt.show()


# correlation coefficient between jersey number and injuries
for column in injury_counts_by_jersey_number.columns[1:]:  # Exclude 'Player_Jersey' column
    r_value, _ = pearsonr(injury_counts_by_jersey_number['Player Jersey'], injury_counts_by_jersey_number[column])
    print(f"The correlation coefficient for jersey number and being injured is: {r_value}")


# Create bins in which to place values based upon IMDB vote count
bins = [0, 25, 50, 75, 100]

# Create labels for these bins
group_labels = ["0 to 24", "25 to 49", "50 to 74", "75 to 99"]


# Slice the data and place it into bins
pd.cut(df["Player Jersey"], bins, labels=group_labels)


# Place the data series into a new column inside of the DataFrame
df["Player Jersey"] = pd.cut(df["Player Jersey"], bins, labels=group_labels)
df.head()


injury_counts_by_jersey_number_bin = df.groupby('Player Jersey')['Injury Type'].count()
injury_counts_by_jersey_number_bin


injury_counts_by_jersey_number_bin = {
    '0-24': 1034,
    '25-49': 626,
    '50-74': 704,
    '75-99': 728
}


# Extract labels and values from the dictionary
labels = list(injury_counts_by_jersey_number_bin.keys())
sizes = list(injury_counts_by_jersey_number_bin.values())


# Create a pie chart
plt.figure(figsize=(8, 6))
plt.pie(sizes, labels=labels, autopct='%1.1f%%', startangle=200)

# Add a title
plt.title('Injury Count by Jersey Number Groupings')

# Display the plot
plt.axis('equal')  # Equal aspect ratio ensures that pie is drawn as a circle.
plt.show()



